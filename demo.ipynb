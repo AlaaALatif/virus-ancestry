{
 "cells": [
  {
   "cell_type": "markdown",
   "metadata": {},
   "source": [
    " Realm -> Kingdom -> Phylum -> Class -> Order -> Family -> Genus -> Species"
   ]
  },
  {
   "cell_type": "code",
   "execution_count": 3,
   "metadata": {},
   "outputs": [],
   "source": [
    "from taxdata import TaxData\n",
    "from path import Path"
   ]
  },
  {
   "cell_type": "code",
   "execution_count": 4,
   "metadata": {},
   "outputs": [],
   "source": [
    "data_path = Path('/Users/alaa/data/covid/taxdump.tar.gz')"
   ]
  },
  {
   "cell_type": "code",
   "execution_count": 5,
   "metadata": {},
   "outputs": [],
   "source": [
    "dataframe = TaxData(data_path)"
   ]
  },
  {
   "cell_type": "code",
   "execution_count": 6,
   "metadata": {},
   "outputs": [
    {
     "data": {
      "text/plain": [
       "'Data Sucessfully Loaded into RTree'"
      ]
     },
     "execution_count": 6,
     "metadata": {},
     "output_type": "execute_result"
    }
   ],
   "source": [
    "dataframe.load_data()"
   ]
  },
  {
   "cell_type": "code",
   "execution_count": 11,
   "metadata": {},
   "outputs": [
    {
     "data": {
      "text/plain": [
       "'Riboviria'"
      ]
     },
     "execution_count": 11,
     "metadata": {},
     "output_type": "execute_result"
    }
   ],
   "source": [
    "organism_name1 = 'Middle East respiratory syndrome-related coronavirus'\n",
    "organism_name2 = 'H1N1 swine influenza virus'\n",
    "dataframe.get_common_ancestor(organism_name1, organism_name2)"
   ]
  },
  {
   "cell_type": "code",
   "execution_count": 8,
   "metadata": {},
   "outputs": [
    {
     "data": {
      "text/plain": [
       "'H1N1 swine influenza virus'"
      ]
     },
     "execution_count": 8,
     "metadata": {},
     "output_type": "execute_result"
    }
   ],
   "source": [
    "# how to use id2name to fetch organism's name from tax id\n",
    "dataframe.id2name['36420']"
   ]
  },
  {
   "cell_type": "code",
   "execution_count": 13,
   "metadata": {},
   "outputs": [
    {
     "data": {
      "text/plain": [
       "Node: Middle East respiratory syndrome-related coronavirus -> Merbecovirus"
      ]
     },
     "execution_count": 13,
     "metadata": {},
     "output_type": "execute_result"
    }
   ],
   "source": [
    "# how to use name2node to fetch organism's node from name\n",
    "dataframe.name2node[organism_name1]"
   ]
  },
  {
   "cell_type": "code",
   "execution_count": 14,
   "metadata": {
    "scrolled": true
   },
   "outputs": [
    {
     "data": {
      "text/plain": [
       "['Middle East respiratory syndrome-related coronavirus',\n",
       " 'Merbecovirus',\n",
       " 'Group 2 species',\n",
       " 'Orthocoronavirinae',\n",
       " 'Coronaviridae',\n",
       " 'Cornidovirineae',\n",
       " 'Nidovirales',\n",
       " 'Riboviria',\n",
       " 'viruses',\n",
       " 'root']"
      ]
     },
     "execution_count": 14,
     "metadata": {},
     "output_type": "execute_result"
    }
   ],
   "source": [
    "# how to get the full lineage of an organism's name\n",
    "dataframe.get_lineage(organism_name1)"
   ]
  },
  {
   "cell_type": "code",
   "execution_count": 15,
   "metadata": {},
   "outputs": [
    {
     "data": {
      "text/plain": [
       "['Middle East respiratory syndrome-related coronavirus',\n",
       " 'Merbecovirus',\n",
       " 'Group 2 species',\n",
       " 'Orthocoronavirinae',\n",
       " 'Coronaviridae',\n",
       " 'Cornidovirineae',\n",
       " 'Nidovirales',\n",
       " 'Riboviria',\n",
       " 'viruses',\n",
       " 'root']"
      ]
     },
     "execution_count": 15,
     "metadata": {},
     "output_type": "execute_result"
    }
   ],
   "source": [
    "dataframe.get_lineage(n2)"
   ]
  },
  {
   "cell_type": "markdown",
   "metadata": {},
   "source": [
    "# TODO:\n",
    "* add unit tests"
   ]
  }
 ],
 "metadata": {
  "kernelspec": {
   "display_name": "Python 3",
   "language": "python",
   "name": "python3"
  },
  "language_info": {
   "codemirror_mode": {
    "name": "ipython",
    "version": 3
   },
   "file_extension": ".py",
   "mimetype": "text/x-python",
   "name": "python",
   "nbconvert_exporter": "python",
   "pygments_lexer": "ipython3",
   "version": "3.7.4"
  }
 },
 "nbformat": 4,
 "nbformat_minor": 4
}
